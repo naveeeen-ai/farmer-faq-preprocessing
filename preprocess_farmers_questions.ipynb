{
  "cells": [
    {
      "cell_type": "code",
      "execution_count": 2,
      "metadata": {},
      "outputs": [],
      "source": [
        "import pandas as pd\n",
        "import numpy as np\n",
        "from pathlib import Path\n",
        "\n",
        "input_path = Path(\"questionsv4.csv\")\n",
        "output_path = Path(\"questionsv4_cleaned.csv\")\n"
      ]
    },
    {
      "cell_type": "code",
      "execution_count": 3,
      "metadata": {},
      "outputs": [],
      "source": [
        "df = pd.read_csv(input_path, dtype=str)\n",
        "df.columns = [c.strip().lower() for c in df.columns]\n",
        "if {\"questions\", \"answers\"}.issubset(df.columns):\n",
        "    df = df[[\"questions\", \"answers\"]]\n",
        "else:\n",
        "    if df.shape[1] >= 2:\n",
        "        df = df.iloc[:, :2]\n",
        "        df.columns = [\"questions\", \"answers\"]\n",
        "    else:\n",
        "        df = pd.DataFrame(columns=[\"questions\", \"answers\"])\n"
      ]
    },
    {
      "cell_type": "code",
      "execution_count": 4,
      "metadata": {},
      "outputs": [],
      "source": [
        "df = df.replace({np.nan: None})\n",
        "df[\"questions\"] = df[\"questions\"].apply(lambda x: x.strip() if isinstance(x, str) else x)\n",
        "df[\"answers\"] = df[\"answers\"].apply(lambda x: x.strip() if isinstance(x, str) else x)\n",
        "\n",
        "mask_nonempty = df[\"questions\"].notna() & df[\"answers\"].notna() & (df[\"questions\"].str.len() > 0) & (df[\"answers\"].str.len() > 0)\n",
        "df = df[mask_nonempty].copy()\n"
      ]
    },
    {
      "cell_type": "code",
      "execution_count": 5,
      "metadata": {},
      "outputs": [],
      "source": [
        "irrelevant_patterns = [\n",
        "    r\"^irrelevant$\",\n",
        "    r\"^not relevant$\",\n",
        "    r\"^n/?a$\",\n",
        "    r\"^none$\",\n",
        "    r\"^no data$\",\n",
        "]\n",
        "\n",
        "pattern_union = \"|\".join(irrelevant_patterns)\n",
        "mask_irrelevant_q = df[\"questions\"].str.strip().str.lower().str.match(pattern_union, na=False)\n",
        "mask_irrelevant_a = df[\"answers\"].str.strip().str.lower().str.match(pattern_union, na=False)\n",
        "\n",
        "df = df[~(mask_irrelevant_q | mask_irrelevant_a)].copy()\n"
      ]
    },
    {
      "cell_type": "code",
      "execution_count": 6,
      "metadata": {},
      "outputs": [],
      "source": [
        "df = df.drop_duplicates(subset=[\"questions\", \"answers\"]).reset_index(drop=True)\n",
        "df.to_csv(output_path, index=False)\n"
      ]
    },
    {
      "cell_type": "code",
      "execution_count": null,
      "metadata": {},
      "outputs": [],
      "source": []
    }
  ],
  "metadata": {
    "kernelspec": {
      "display_name": "venv",
      "language": "python",
      "name": "python3"
    },
    "language_info": {
      "codemirror_mode": {
        "name": "ipython",
        "version": 3
      },
      "file_extension": ".py",
      "mimetype": "text/x-python",
      "name": "python",
      "nbconvert_exporter": "python",
      "pygments_lexer": "ipython3",
      "version": "3.13.5"
    }
  },
  "nbformat": 4,
  "nbformat_minor": 2
}
